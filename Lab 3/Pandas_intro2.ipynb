{
 "cells": [
  {
   "cell_type": "markdown",
   "metadata": {},
   "source": [
    "# Pandas Indexes and Intervals  "
   ]
  },
  {
   "cell_type": "code",
   "execution_count": 10,
   "metadata": {},
   "outputs": [
    {
     "name": "stdout",
     "output_type": "stream",
     "text": [
      "[Period('2000-01-01', 'D') Period('2000-01-02', 'D')\n",
      " Period('2000-01-03', 'D') Period('2000-01-04', 'D')]\n",
      "\n",
      "[Period('2000-01-01', 'D') Period('2000-01-02', 'D')\n",
      " Period('2000-01-03', 'D') Period('2000-01-04', 'D')]\n"
     ]
    },
    {
     "data": {
      "text/plain": [
       "array([1, 2, 3], dtype=int64)"
      ]
     },
     "execution_count": 10,
     "metadata": {},
     "output_type": "execute_result"
    }
   ],
   "source": [
    "# Try out following commands:\n",
    "import numpy as np\n",
    "import pandas as pd\n",
    "\n",
    "idx = pd.period_range('2000', periods=4)\n",
    "print(idx.values)\n",
    "\n",
    "print()\n",
    "print(pd.Series(idx).values)\n",
    "\n",
    "ser = pd.Series([1, 2, 3])\n",
    "ser.values"
   ]
  },
  {
   "cell_type": "code",
   "execution_count": 11,
   "metadata": {},
   "outputs": [
    {
     "data": {
      "text/plain": [
       "array([Period('2000-01-01', 'D'), Period('2000-01-02', 'D'),\n",
       "       Period('2000-01-03', 'D'), Period('2000-01-04', 'D')], dtype=object)"
      ]
     },
     "execution_count": 11,
     "metadata": {},
     "output_type": "execute_result"
    }
   ],
   "source": [
    "# With PeriodIndex, .values generates a new ndarray of period objects each time.\n",
    "\n",
    "idx.values"
   ]
  },
  {
   "cell_type": "code",
   "execution_count": 12,
   "metadata": {},
   "outputs": [
    {
     "name": "stdout",
     "output_type": "stream",
     "text": [
      "[Period('2000-01-01', 'D') Period('2000-01-02', 'D')\n",
      " Period('2000-01-03', 'D') Period('2000-01-04', 'D')]\n",
      "\n"
     ]
    },
    {
     "data": {
      "text/plain": [
       "array([Period('2000-01-01', 'D'), Period('2000-01-02', 'D'),\n",
       "       Period('2000-01-03', 'D'), Period('2000-01-04', 'D')], dtype=object)"
      ]
     },
     "execution_count": 12,
     "metadata": {},
     "output_type": "execute_result"
    }
   ],
   "source": [
    "# Converting the series or index array to an actual numpy array\n",
    "\n",
    "print(np.asarray(idx))\n",
    "\n",
    "print()\n",
    "np.asarray(pd.Series(idx))"
   ]
  },
  {
   "cell_type": "code",
   "execution_count": null,
   "metadata": {
    "collapsed": true
   },
   "outputs": [],
   "source": [
    "# Array method in pandas to create a 1-d array.\n",
    "\n",
    "# We can create different types of arrays by specifying their dtypes.\n",
    "pd.array([1, 2, np.nan], dtype='Int64')\n",
    "\n",
    "# Without specifying the dtype in the array method it would create a pandasarray."
   ]
  },
  {
   "cell_type": "code",
   "execution_count": null,
   "metadata": {
    "collapsed": true
   },
   "outputs": [],
   "source": [
    "Storing Interval and Period Data in Series and DataFrame\n",
    "\n",
    "Storing interval range\n",
    "#ser = pd.Series(pd.interval_range(0, 5))\n",
    "\n",
    "Use ser.dtype command to see what dtype it has. \n",
    "\n",
    "Storing Period range\n",
    "#pser = pd.Series(pd.period_range(\"2000\", freq=\"D\", periods=5))\n",
    "#pser.dtype\n"
   ]
  },
  {
   "cell_type": "code",
   "execution_count": null,
   "metadata": {
    "collapsed": true
   },
   "outputs": [],
   "source": [
    "Extracting the underlying array of intervals or periods from the Series:\n",
    "   Use \n",
    "    #ser.array\n",
    "    #pser.array\n",
    "   to see the Interval and Period types of data in the Series created. "
   ]
  },
  {
   "cell_type": "code",
   "execution_count": null,
   "metadata": {
    "collapsed": true
   },
   "outputs": [],
   "source": [
    "Creating and using Multiindexed Dataframe.\n",
    "Ex1:\n",
    "    #numbers = [0, 1, 2]\n",
    "    #colors = ['green', 'purple']\n",
    "    #pd.MultiIndex.from_product([numbers, colors],names=['number', 'color'])\n",
    "Ex2:\n",
    "    #index_left = pd.MultiIndex.from_tuples([('K0', 'X0'), ('K0', 'X1'),('K1', 'X2')],names=['key', 'X'])\n",
    "    #left = pd.DataFrame({'A': ['A0', 'A1', 'A2'],'B': ['B0', 'B1', 'B2']}, index=index_left)\n",
    " \n",
    "->Similarly create a dataframe right."
   ]
  },
  {
   "cell_type": "code",
   "execution_count": null,
   "metadata": {
    "collapsed": true
   },
   "outputs": [],
   "source": [
    "Join and merge method to join multiindexed dataframes.\n",
    "\n",
    "Join method\n",
    "#left.join(right)\n",
    "\n",
    "Merge Method\n",
    "#pd.merge(left.reset_index(), right.reset_index(),on=['key'], how='inner').set_index(['key', 'X', 'Y'])"
   ]
  },
  {
   "cell_type": "code",
   "execution_count": null,
   "metadata": {
    "collapsed": true
   },
   "outputs": [],
   "source": [
    "Renaming names of rows or columns in a Multiindex.\n",
    "\n",
    "#mi = pd.MultiIndex.from_product([list('AB'), list('CD'), list('EF')],names=['AB', 'CD', 'EF'])\n",
    "#df = pd.DataFrame([i for i in range(len(mi))], index=mi, columns=['N'])\n",
    "#df\n",
    "#df.rename_axis(index={'CD': 'New'})\n",
    "#df"
   ]
  },
  {
   "cell_type": "code",
   "execution_count": null,
   "metadata": {
    "collapsed": true
   },
   "outputs": [],
   "source": [
    "Reading CSV files.\n",
    "#pandas.read_csv()"
   ]
  }
 ],
 "metadata": {
  "kernelspec": {
   "display_name": "Python 3",
   "language": "python",
   "name": "python3"
  },
  "language_info": {
   "codemirror_mode": {
    "name": "ipython",
    "version": 3
   },
   "file_extension": ".py",
   "mimetype": "text/x-python",
   "name": "python",
   "nbconvert_exporter": "python",
   "pygments_lexer": "ipython3",
   "version": "3.7.0"
  }
 },
 "nbformat": 4,
 "nbformat_minor": 2
}
