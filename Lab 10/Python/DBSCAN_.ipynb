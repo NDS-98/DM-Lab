{
 "cells": [
  {
   "cell_type": "code",
   "execution_count": 236,
   "metadata": {
    "collapsed": true
   },
   "outputs": [],
   "source": [
    "import sys\n",
    "import pylab as plt\n",
    "import numpy as np\n",
    "import matplotlib.pyplot as plt\n",
    "import numpy as np\n",
    "import pandas as pd\n",
    "from sklearn.cluster import DBSCAN"
   ]
  },
  {
   "cell_type": "code",
   "execution_count": 237,
   "metadata": {
    "collapsed": true
   },
   "outputs": [],
   "source": [
    "df = pd.read_csv(\"cassini250.csv\")\n",
    "df=df.values"
   ]
  },
  {
   "cell_type": "code",
   "execution_count": 238,
   "metadata": {
    "collapsed": true
   },
   "outputs": [],
   "source": [
    "from sklearn.model_selection import train_test_split\n",
    "X_train, X_test = train_test_split(df,test_size=0.30,random_state=2)"
   ]
  },
  {
   "cell_type": "code",
   "execution_count": 239,
   "metadata": {},
   "outputs": [
    {
     "data": {
      "text/plain": [
       "array([ 0,  1, -1,  1,  2,  2,  1,  3,  1,  1,  1,  1,  0,  0,  1,  1,  1,\n",
       "        0,  1,  1,  0,  1,  1,  1,  1,  1,  1,  1,  0,  0,  1,  1,  2,  1,\n",
       "        1, -1,  1,  1,  1,  1,  1,  0,  1,  1,  2,  1,  1,  1,  1,  1,  2,\n",
       "        0,  1,  1, -1,  1,  1, -1,  1,  0,  1,  1,  1,  1,  1,  0,  2,  0,\n",
       "        0,  0,  1,  1,  1,  1,  1,  3,  0,  1,  1,  1,  1,  0,  0,  1,  1,\n",
       "        1,  2,  1,  3,  1,  3,  0,  0,  1,  3,  2,  2,  0,  1,  0,  0,  3,\n",
       "        1,  0,  1,  3,  0,  1,  3, -1,  1,  1, -1,  0,  1,  1,  1,  1,  1,\n",
       "        1,  1,  1,  3,  0,  1,  1,  2,  0,  0,  1,  1,  1,  1,  1,  2,  1,\n",
       "        0,  0,  0,  1,  0,  0, -1,  1,  0,  1,  1, -1,  1,  1,  1, -1,  1,\n",
       "        1,  1,  1,  0,  0,  0,  1,  1,  0,  1,  1,  0,  1,  3,  1,  0,  3,\n",
       "        2,  1,  0,  1])"
      ]
     },
     "execution_count": 239,
     "metadata": {},
     "output_type": "execute_result"
    }
   ],
   "source": [
    "dbscan_ = DBSCAN(eps=.3, min_samples=5,metric='euclidean').fit(X_train)\n",
    "dbscan_.labels_"
   ]
  },
  {
   "cell_type": "code",
   "execution_count": 240,
   "metadata": {},
   "outputs": [
    {
     "data": {
      "image/png": "[encoded data removed]",
      "text/plain": [
       "<matplotlib.figure.Figure at 0x10efb61d0>"
      ]
     },
     "metadata": {},
     "output_type": "display_data"
    },
    {
     "data": {
      "text/plain": [
       "array([[-0.84842853,  1.06258021],\n",
       "       [ 0.58786764, -1.1075236 ],\n",
       "       [ 0.38010653,  1.35343299],\n",
       "       [-0.34972564,  0.00516025],\n",
       "       [ 0.43015635, -1.88615908],\n",
       "       [-0.55222607, -0.03108948],\n",
       "       [ 0.26908131,  0.17166814],\n",
       "       [-1.32809069, -1.03656598],\n",
       "       [ 0.36984751, -1.62726251],\n",
       "       [ 0.03416202, -1.40694357],\n",
       "       [-0.9985493 , -0.92677347],\n",
       "       [ 1.08988223, -1.10301133],\n",
       "       [-0.62215118,  1.45282651],\n",
       "       [-0.21570976,  1.50694324],\n",
       "       [-0.75353925,  0.86161264],\n",
       "       [ 1.23995286, -1.19566718],\n",
       "       [-0.98778044, -1.54121664],\n",
       "       [ 0.83155551,  1.59465477],\n",
       "       [-0.39160553, -0.28675338],\n",
       "       [ 0.78197888,  0.65948699],\n",
       "       [ 0.70239718,  1.30551956],\n",
       "       [ 1.16664265,  1.1599864 ],\n",
       "       [-0.53652731, -0.19782486],\n",
       "       [ 0.52290087, -1.35133346],\n",
       "       [ 0.04128991, -0.2456144 ],\n",
       "       [ 1.00700314,  1.49599034],\n",
       "       [-0.59719479, -0.96476037],\n",
       "       [-0.07654069,  1.29045378],\n",
       "       [ 0.58169813, -1.33629324],\n",
       "       [-0.66021594,  1.47733197],\n",
       "       [ 0.43346573, -1.0878029 ],\n",
       "       [ 0.01015923,  0.88667345],\n",
       "       [-1.08126364, -1.57455345],\n",
       "       [ 0.1199699 , -0.45533775],\n",
       "       [ 0.58663873,  0.83295913],\n",
       "       [-0.09779762, -0.3323806 ],\n",
       "       [ 0.19225968,  0.0410432 ],\n",
       "       [ 0.80276481, -1.76797609],\n",
       "       [-0.0658082 ,  1.49961081],\n",
       "       [-1.0300383 ,  0.93504088],\n",
       "       [-0.74907974, -1.44905814],\n",
       "       [-0.09409177, -0.08467468],\n",
       "       [-0.59599196, -0.82227952],\n",
       "       [-0.66486789,  0.73141138],\n",
       "       [ 1.06940352,  1.25984952],\n",
       "       [ 1.15508884,  1.44355199],\n",
       "       [-0.53698025,  0.10634431],\n",
       "       [-0.08578822, -1.78657246],\n",
       "       [-1.09361235,  1.33171124],\n",
       "       [ 0.17924218,  0.46441707],\n",
       "       [-0.15354812,  1.46975002],\n",
       "       [-0.49032983, -0.0867325 ],\n",
       "       [ 0.56754831, -1.60487288],\n",
       "       [ 0.59291892,  1.62240205],\n",
       "       [ 0.59369046,  1.22341538],\n",
       "       [-1.31955684, -1.14679006],\n",
       "       [-0.3044644 ,  0.82858855],\n",
       "       [ 1.30816826, -0.93449439],\n",
       "       [-1.11371778, -1.54703189],\n",
       "       [ 0.09966769, -1.7357706 ],\n",
       "       [-0.77516307, -1.55904012],\n",
       "       [-0.26524722, -1.54933628],\n",
       "       [ 1.36029164, -1.29437055],\n",
       "       [ 0.22226385, -1.53100536],\n",
       "       [ 0.70026802, -0.68297674],\n",
       "       [-0.59248794, -1.0345795 ],\n",
       "       [-0.75247015, -1.28378912],\n",
       "       [-0.0145101 , -0.43950349],\n",
       "       [-0.68468638,  1.1677193 ],\n",
       "       [-0.50850946,  1.57442189],\n",
       "       [-0.22956873,  0.97651279],\n",
       "       [ 0.61486437,  0.77802699],\n",
       "       [ 1.27076213,  1.31489575],\n",
       "       [ 0.14053275, -1.27521483],\n",
       "       [ 0.46407644,  1.37859382]])"
      ]
     },
     "execution_count": 240,
     "metadata": {},
     "output_type": "execute_result"
    }
   ],
   "source": [
    "#plotting the clusters obtained for the training dataset\n",
    "clusters=4\n",
    "b=X_train\n",
    "b1=np.array(b)\n",
    "lo=[]\n",
    "x_val1=[]\n",
    "y_val1=[]\n",
    "colors=['bo','go','ro','co','mo','yo','ko','bx','gx','rx','cx','mx','yx','kx','b-','g-','r-']\n",
    "for i in range(0,clusters):\n",
    "    for j in range(0,len(dbscan_.labels_)):\n",
    "        if(dbscan_.labels_[j]==i):\n",
    "           lo.append(b1[j])\n",
    "\n",
    "    for k2 in lo:\n",
    "        x_val1.append(float(k2[0]))\n",
    "        y_val1.append(float(k2[1]))\n",
    "        \n",
    "    plt.plot(x_val1,y_val1,colors[i])\n",
    "    lo=[]\n",
    "    x_val1=[]\n",
    "    y_val1=[]\n",
    "plt.show()\n",
    "X_test"
   ]
  },
  {
   "cell_type": "code",
   "execution_count": 241,
   "metadata": {},
   "outputs": [
    {
     "data": {
      "text/plain": [
       "array([ 1,  3,  1,  1,  3,  1,  1,  0,  3, -1,  0,  2,  1,  1,  1,  2,  0,\n",
       "        1,  1,  1,  1,  1,  1,  3,  1,  1,  0,  1,  3,  1,  3,  1,  0,  1,\n",
       "        1,  1,  1, -1,  1,  1,  0,  1,  0,  1,  1,  1,  1, -1,  1,  1,  1,\n",
       "        1,  3,  1,  1,  0,  1,  2,  0, -1,  0,  0,  2,  3,  2,  0,  0,  1,\n",
       "        1,  1,  1,  1,  1,  3,  1])"
      ]
     },
     "execution_count": 241,
     "metadata": {},
     "output_type": "execute_result"
    }
   ],
   "source": [
    "'''Predicting the labels for testing datapoints.Since there exists no predefined function in sklearn dbscan for\n",
    "prediction we need to define it manually'''\n",
    "import scipy as sp\n",
    "\n",
    "def dbscan_predict(dbscan_model, X_new):\n",
    "    # Result is noise by default\n",
    "    y_new = np.ones(shape=len(X_new), dtype=int)*-1 \n",
    "    metric=sp.spatial.distance.euclidean\n",
    "    # Iterate all input samples for a label\n",
    "    for j, x_new in enumerate(X_new):\n",
    "        # Find a core sample closer than EPS\n",
    "        for i, x_core in enumerate(dbscan_model.components_): \n",
    "            if metric(x_new, x_core) < dbscan_model.eps:\n",
    "                # Assign label of x_core to x_new\n",
    "                y_new[j] = dbscan_model.labels_[dbscan_model.core_sample_indices_[i]]\n",
    "                break\n",
    "\n",
    "    return y_new\n",
    "\n",
    "y_pred=dbscan_predict(dbscan_,X_test)\n",
    "y_pred"
   ]
  },
  {
   "cell_type": "code",
   "execution_count": 242,
   "metadata": {},
   "outputs": [
    {
     "data": {
      "image/png": "[encoded data removed]",
      "text/plain": [
       "<matplotlib.figure.Figure at 0x10f0b3ac8>"
      ]
     },
     "metadata": {},
     "output_type": "display_data"
    }
   ],
   "source": [
    "#plotting the clusters obtained for the testing dataset\n",
    "b=X_test\n",
    "b1=np.array(b)\n",
    "lo=[]\n",
    "x_val1=[]\n",
    "y_val1=[]\n",
    "colors=['bo','go','ro','co','mo','yo','ko','bx','gx','rx','cx','mx','yx','kx','b-','g-','r-']\n",
    "for i in range(0,clusters):\n",
    "    for j in range(0,len(y_pred)):\n",
    "        if(y_pred[j]==i):\n",
    "           lo.append(b1[j])\n",
    "\n",
    "    for k2 in lo:\n",
    "        x_val1.append(float(k2[0]))\n",
    "        y_val1.append(float(k2[1]))\n",
    "        \n",
    "    plt.plot(x_val1,y_val1,colors[i])\n",
    "    lo=[]\n",
    "    x_val1=[]\n",
    "    y_val1=[]\n",
    "plt.show()"
   ]
  },
  {
   "cell_type": "code",
   "execution_count": 243,
   "metadata": {},
   "outputs": [
    {
     "data": {
      "text/plain": [
       "array([ 1,  3,  1,  1,  3,  1,  1,  0,  3, -1,  0,  2,  1,  1,  1,  2,  0,\n",
       "        1,  1,  1,  1,  1,  1,  3,  1,  1,  0,  1,  3,  1,  3,  1,  0,  1,\n",
       "        1,  1,  1, -1,  1,  1,  0,  1,  0,  1,  1,  1,  1, -1,  1,  1,  1,\n",
       "        1,  3,  1,  1,  0,  1,  2,  0, -1,  0,  0,  2,  3,  2,  0,  0,  1,\n",
       "        1,  1,  1,  1,  1,  3,  1])"
      ]
     },
     "execution_count": 243,
     "metadata": {},
     "output_type": "execute_result"
    }
   ],
   "source": [
    "y_pred"
   ]
  }
 ],
 "metadata": {
  "kernelspec": {
   "display_name": "Python 3",
   "language": "python",
   "name": "python3"
  },
  "language_info": {
   "codemirror_mode": {
    "name": "ipython",
    "version": 3
   },
   "file_extension": ".py",
   "mimetype": "text/x-python",
   "name": "python",
   "nbconvert_exporter": "python",
   "pygments_lexer": "ipython3",
   "version": "3.6.7"
  }
 },
 "nbformat": 4,
 "nbformat_minor": 2
}
