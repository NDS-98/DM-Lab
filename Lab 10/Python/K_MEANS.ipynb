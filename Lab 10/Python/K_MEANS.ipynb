{
 "cells": [
  {
   "cell_type": "code",
   "execution_count": 32,
   "metadata": {
    "collapsed": true
   },
   "outputs": [],
   "source": [
    "import sys\n",
    "import pylab as plt\n",
    "import numpy as np\n",
    "import matplotlib.pyplot as plt\n",
    "import numpy as np\n",
    "import pandas as pd\n",
    "from sklearn.cluster import KMeans"
   ]
  },
  {
   "cell_type": "code",
   "execution_count": 33,
   "metadata": {
    "collapsed": true
   },
   "outputs": [],
   "source": [
    "df = pd.read_csv(\"cassini250.csv\")\n",
    "df=df.values"
   ]
  },
  {
   "cell_type": "code",
   "execution_count": 34,
   "metadata": {
    "collapsed": true
   },
   "outputs": [],
   "source": [
    "from sklearn.model_selection import train_test_split\n",
    "X_train, X_test = train_test_split(df,test_size=0.30)"
   ]
  },
  {
   "cell_type": "code",
   "execution_count": 35,
   "metadata": {},
   "outputs": [
    {
     "data": {
      "text/plain": [
       "array([0, 0, 4, 1, 3, 2, 1, 2, 4, 0, 3, 3, 2, 0, 4, 0, 3, 0, 1, 3, 3, 1, 0,\n",
       "       0, 3, 0, 3, 2, 1, 2, 0, 4, 2, 4, 0, 0, 2, 3, 0, 0, 2, 2, 2, 1, 2, 0,\n",
       "       0, 1, 2, 2, 1, 3, 3, 3, 4, 0, 0, 3, 1, 0, 4, 0, 2, 2, 1, 1, 4, 0, 2,\n",
       "       4, 1, 1, 4, 1, 1, 3, 2, 1, 4, 0, 0, 4, 0, 2, 3, 1, 4, 4, 3, 1, 4, 1,\n",
       "       3, 2, 3, 3, 2, 3, 0, 0, 1, 2, 4, 4, 4, 3, 3, 0, 4, 0, 3, 1, 3, 2, 2,\n",
       "       2, 4, 2, 4, 1, 4, 1, 0, 4, 0, 4, 4, 0, 1, 1, 1, 4, 1, 3, 1, 2, 2, 3,\n",
       "       1, 1, 1, 2, 4, 2, 0, 3, 4, 3, 1, 4, 2, 0, 2, 4, 2, 0, 1, 1, 3, 3, 1,\n",
       "       0, 3, 4, 2, 2, 1, 4, 0, 4, 2, 2, 2, 0], dtype=int32)"
      ]
     },
     "execution_count": 35,
     "metadata": {},
     "output_type": "execute_result"
    }
   ],
   "source": [
    "clusters=5\n",
    "kmeans = KMeans(n_clusters=clusters,init='k-means++').fit(X_train)\n",
    "kmeans.labels_"
   ]
  },
  {
   "cell_type": "code",
   "execution_count": 36,
   "metadata": {},
   "outputs": [
    {
     "data": {
      "text/plain": [
       "array([[-0.03661775, -0.00319749],\n",
       "       [-0.50349115,  1.27847974],\n",
       "       [-0.7379541 , -1.23037153],\n",
       "       [ 0.74618026,  1.23655118],\n",
       "       [ 0.66161739, -1.22881111]])"
      ]
     },
     "execution_count": 36,
     "metadata": {},
     "output_type": "execute_result"
    }
   ],
   "source": [
    "#To print the cluster centers\n",
    "kmeans.cluster_centers_"
   ]
  },
  {
   "cell_type": "code",
   "execution_count": 37,
   "metadata": {},
   "outputs": [
    {
     "data": {
      "image/png": "[encoded data removed]",
      "text/plain": [
       "<matplotlib.figure.Figure at 0x11b0c2358>"
      ]
     },
     "metadata": {},
     "output_type": "display_data"
    }
   ],
   "source": [
    "#plotting the clusters obtained for the training dataset\n",
    "\n",
    "b=X_train\n",
    "b1=np.array(b)\n",
    "lo=[]\n",
    "x_val1=[]\n",
    "y_val1=[]\n",
    "colors=['bo','go','ro','co','mo','yo','ko','bx','gx','rx','cx','mx','yx','kx','b-','g-','r-']\n",
    "for i in range(0,clusters):\n",
    "    for j in range(0,len(kmeans.labels_)):\n",
    "        if(kmeans.labels_[j]==i):\n",
    "           lo.append(b1[j])\n",
    "\n",
    "    for k2 in lo:\n",
    "        x_val1.append(float(k2[0]))\n",
    "        y_val1.append(float(k2[1]))\n",
    "        \n",
    "    plt.plot(x_val1,y_val1,colors[i])\n",
    "    lo=[]\n",
    "    x_val1=[]\n",
    "    y_val1=[]\n",
    "plt.show()"
   ]
  },
  {
   "cell_type": "code",
   "execution_count": 38,
   "metadata": {
    "collapsed": true
   },
   "outputs": [],
   "source": [
    "#predicting the labels for the testset datapoints\n",
    "u=kmeans.predict(X_test)"
   ]
  },
  {
   "cell_type": "code",
   "execution_count": 39,
   "metadata": {},
   "outputs": [
    {
     "data": {
      "image/png": "[encoded data removed]",
      "text/plain": [
       "<matplotlib.figure.Figure at 0x117052a58>"
      ]
     },
     "metadata": {},
     "output_type": "display_data"
    }
   ],
   "source": [
    "#plotting the testing datapoints with their assigned clusters\n",
    "b=X_test\n",
    "b1=np.array(b)\n",
    "lo=[]\n",
    "x_val1=[]\n",
    "y_val1=[]\n",
    "colors=['bo','go','ro','co','mo','yo','ko','bx','gx','rx','cx','mx','yx','kx','b-','g-','r-']\n",
    "for i in range(0,clusters):\n",
    "    for j in range(0,len(u)):\n",
    "        if(u[j]==i):\n",
    "           lo.append(b1[j])\n",
    "\n",
    "    for k2 in lo:\n",
    "        x_val1.append(float(k2[0]))\n",
    "        y_val1.append(float(k2[1]))\n",
    "        \n",
    "    plt.plot(x_val1,y_val1,colors[i])\n",
    "    lo=[]\n",
    "    x_val1=[]\n",
    "    y_val1=[]\n",
    "plt.show()"
   ]
  },
  {
   "cell_type": "code",
   "execution_count": null,
   "metadata": {
    "collapsed": true
   },
   "outputs": [],
   "source": []
  }
 ],
 "metadata": {
  "kernelspec": {
   "display_name": "Python 3",
   "language": "python",
   "name": "python3"
  },
  "language_info": {
   "codemirror_mode": {
    "name": "ipython",
    "version": 3
   },
   "file_extension": ".py",
   "mimetype": "text/x-python",
   "name": "python",
   "nbconvert_exporter": "python",
   "pygments_lexer": "ipython3",
   "version": "3.6.7"
  }
 },
 "nbformat": 4,
 "nbformat_minor": 2
}
