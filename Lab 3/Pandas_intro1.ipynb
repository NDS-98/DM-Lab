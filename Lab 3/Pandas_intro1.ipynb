{
 "cells": [
  {
   "cell_type": "markdown",
   "metadata": {},
   "source": [
    "# An Introduction to Pandas\n",
    "\n",
    "Pandas is an open source library providing high-performance, easy-to-use data structures \n",
    "and data analysis tools for the Python programming language.\n"
   ]
  },
  {
   "cell_type": "markdown",
   "metadata": {},
   "source": [
    "# Installation instructions for pandas:\n",
    "\n",
    "For installing Pandas we will be using the anaconda navigator.\n",
    "\n",
    "Installation instructions for anaconda:\n",
    "\n",
    "1) For Windows go the following link: \n",
    "http://docs.continuum.io/anaconda/install/windows/\n",
    "\n",
    "2)For Linux go the following link:\n",
    "http://docs.continuum.io/anaconda/install/linux/\n",
    "\n",
    "Now run the installer to have access to pandas and the rest of the SciPy stack without\n",
    "needing to install anything else."
   ]
  },
  {
   "cell_type": "code",
   "execution_count": 4,
   "metadata": {},
   "outputs": [],
   "source": [
    "#Importing the pandas library\n",
    "import pandas as pd\n",
    "import numpy as np"
   ]
  },
  {
   "cell_type": "markdown",
   "metadata": {},
   "source": [
    "# DataFrames and Series\n",
    "\n",
    "Series and Dataframes are similar to arrays in Numpy.\n",
    "Like a NumPy array, a pandas Series has a dtype . This is often a NumPy dtype."
   ]
  },
  {
   "cell_type": "code",
   "execution_count": 5,
   "metadata": {},
   "outputs": [
    {
     "data": {
      "text/plain": [
       "0    1.0\n",
       "1    3.0\n",
       "2    5.0\n",
       "3    NaN\n",
       "4    6.0\n",
       "5    8.0\n",
       "dtype: float64"
      ]
     },
     "execution_count": 5,
     "metadata": {},
     "output_type": "execute_result"
    }
   ],
   "source": [
    "# Creating a Series by passing a list of values, letting pandas create a default integer index:\n",
    "  \n",
    "s = pd.Series([1, 3, 5, np.nan, 6, 8]);\n",
    "s"
   ]
  },
  {
   "cell_type": "code",
   "execution_count": 13,
   "metadata": {},
   "outputs": [
    {
     "name": "stdout",
     "output_type": "stream",
     "text": [
      "   col1  col2\n",
      "0     1     3\n",
      "1     2     4\n",
      "\n",
      "DatetimeIndex(['2013-01-01', '2013-01-02', '2013-01-03', '2013-01-04',\n",
      "               '2013-01-05', '2013-01-06'],\n",
      "              dtype='datetime64[ns]', freq='D')\n",
      "\n",
      "['A', 'B', 'C', 'D']\n"
     ]
    },
    {
     "data": {
      "text/html": [
       "<div>\n",
       "<style scoped>\n",
       "    .dataframe tbody tr th:only-of-type {\n",
       "        vertical-align: middle;\n",
       "    }\n",
       "\n",
       "    .dataframe tbody tr th {\n",
       "        vertical-align: top;\n",
       "    }\n",
       "\n",
       "    .dataframe thead th {\n",
       "        text-align: right;\n",
       "    }\n",
       "</style>\n",
       "<table border=\"1\" class=\"dataframe\">\n",
       "  <thead>\n",
       "    <tr style=\"text-align: right;\">\n",
       "      <th></th>\n",
       "      <th>A</th>\n",
       "      <th>B</th>\n",
       "      <th>C</th>\n",
       "      <th>D</th>\n",
       "    </tr>\n",
       "  </thead>\n",
       "  <tbody>\n",
       "    <tr>\n",
       "      <th>2013-01-01</th>\n",
       "      <td>0.904632</td>\n",
       "      <td>-0.059137</td>\n",
       "      <td>-0.567054</td>\n",
       "      <td>-0.912706</td>\n",
       "    </tr>\n",
       "    <tr>\n",
       "      <th>2013-01-02</th>\n",
       "      <td>-0.805827</td>\n",
       "      <td>0.800359</td>\n",
       "      <td>0.698279</td>\n",
       "      <td>-2.131705</td>\n",
       "    </tr>\n",
       "    <tr>\n",
       "      <th>2013-01-03</th>\n",
       "      <td>0.725991</td>\n",
       "      <td>1.360938</td>\n",
       "      <td>0.498329</td>\n",
       "      <td>1.243244</td>\n",
       "    </tr>\n",
       "    <tr>\n",
       "      <th>2013-01-04</th>\n",
       "      <td>-0.922469</td>\n",
       "      <td>0.376714</td>\n",
       "      <td>0.538322</td>\n",
       "      <td>0.240073</td>\n",
       "    </tr>\n",
       "    <tr>\n",
       "      <th>2013-01-05</th>\n",
       "      <td>0.504744</td>\n",
       "      <td>-0.655517</td>\n",
       "      <td>0.498344</td>\n",
       "      <td>-0.870754</td>\n",
       "    </tr>\n",
       "    <tr>\n",
       "      <th>2013-01-06</th>\n",
       "      <td>1.532796</td>\n",
       "      <td>-0.063732</td>\n",
       "      <td>-0.027163</td>\n",
       "      <td>-0.755842</td>\n",
       "    </tr>\n",
       "  </tbody>\n",
       "</table>\n",
       "</div>"
      ],
      "text/plain": [
       "                   A         B         C         D\n",
       "2013-01-01  0.904632 -0.059137 -0.567054 -0.912706\n",
       "2013-01-02 -0.805827  0.800359  0.698279 -2.131705\n",
       "2013-01-03  0.725991  1.360938  0.498329  1.243244\n",
       "2013-01-04 -0.922469  0.376714  0.538322  0.240073\n",
       "2013-01-05  0.504744 -0.655517  0.498344 -0.870754\n",
       "2013-01-06  1.532796 -0.063732 -0.027163 -0.755842"
      ]
     },
     "execution_count": 13,
     "metadata": {},
     "output_type": "execute_result"
    }
   ],
   "source": [
    "#  Creating a Dataframe \n",
    "#     Ex1:\n",
    "d = {'col1': [1, 2], 'col2': [3, 4]}\n",
    "df = pd.DataFrame(data=d)\n",
    "print(df)\n",
    "print()\n",
    "# Creating a DataFrame by passing a NumPy array, with a datetime index and labeled columns:\n",
    "\n",
    "#     Ex2:\n",
    "dates = pd.date_range('20130101', periods=6)\n",
    "print(dates)\n",
    "df = pd.DataFrame(np.random.randn(6, 4), index=dates, columns=list('ABCD'))\n",
    "print()\n",
    "print(list('ABCD'))\n",
    "df"
   ]
  },
  {
   "cell_type": "code",
   "execution_count": null,
   "metadata": {
    "collapsed": true
   },
   "outputs": [],
   "source": [
    "From the previous commands we get the following output Data Frame \n",
    "    \n",
    "                A         B         C         D\n",
    "2013-01-01  0.469112 -0.282863 -1.509059 -1.135632\n",
    "2013-01-02  1.212112 -0.173215  0.119209 -1.044236\n",
    "2013-01-03 -0.861849 -2.104569 -0.494929  1.071804\n",
    "2013-01-04  0.721555 -0.706771 -1.039575  0.271860\n",
    "2013-01-05 -0.424972  0.567020  0.276232 -1.087401\n",
    "2013-01-06 -0.673690  0.113648 -1.478427  0.524988"
   ]
  },
  {
   "cell_type": "markdown",
   "metadata": {},
   "source": [
    "# Operations on dtypes"
   ]
  },
  {
   "cell_type": "code",
   "execution_count": 14,
   "metadata": {},
   "outputs": [
    {
     "name": "stdout",
     "output_type": "stream",
     "text": [
      "0    2.0\n",
      "1    4.0\n",
      "2    6.0\n",
      "3    NaN\n",
      "4    7.0\n",
      "5    9.0\n",
      "dtype: float64\n",
      "0    1.01\n",
      "1    3.01\n",
      "2    5.01\n",
      "3     NaN\n",
      "4    6.01\n",
      "5    8.01\n",
      "dtype: float64\n"
     ]
    }
   ],
   "source": [
    "# arithmetic\n",
    "print(s+1)\n",
    "print(s+.01)"
   ]
  },
  {
   "cell_type": "code",
   "execution_count": 15,
   "metadata": {},
   "outputs": [
    {
     "data": {
      "text/plain": [
       "0     True\n",
       "1    False\n",
       "2    False\n",
       "3    False\n",
       "4    False\n",
       "5    False\n",
       "dtype: bool"
      ]
     },
     "execution_count": 15,
     "metadata": {},
     "output_type": "execute_result"
    }
   ],
   "source": [
    "# comparison\n",
    "s==1"
   ]
  },
  {
   "cell_type": "code",
   "execution_count": 16,
   "metadata": {},
   "outputs": [
    {
     "data": {
      "text/plain": [
       "1    3.0\n",
       "2    5.0\n",
       "dtype: float64"
      ]
     },
     "execution_count": 16,
     "metadata": {},
     "output_type": "execute_result"
    }
   ],
   "source": [
    "# indexing\n",
    "s.iloc[1:3]"
   ]
  },
  {
   "cell_type": "code",
   "execution_count": 18,
   "metadata": {},
   "outputs": [
    {
     "data": {
      "text/plain": [
       "0     NaN\n",
       "1     6.0\n",
       "2    10.0\n",
       "3     NaN\n",
       "4     NaN\n",
       "5     NaN\n",
       "dtype: float64"
      ]
     },
     "execution_count": 18,
     "metadata": {},
     "output_type": "execute_result"
    }
   ],
   "source": [
    "# Operate with other dtypes\n",
    "s + s.iloc[1:3].astype('Int8')"
   ]
  },
  {
   "cell_type": "code",
   "execution_count": 19,
   "metadata": {},
   "outputs": [
    {
     "data": {
      "text/plain": [
       "A    float64\n",
       "B    float64\n",
       "C    float64\n",
       "D    float64\n",
       "dtype: object"
      ]
     },
     "execution_count": 19,
     "metadata": {},
     "output_type": "execute_result"
    }
   ],
   "source": [
    "# To get the types of the elements:\n",
    "df.dtypes"
   ]
  },
  {
   "cell_type": "markdown",
   "metadata": {},
   "source": [
    "Dtypes can be merged,reshaped or casted."
   ]
  },
  {
   "cell_type": "code",
   "execution_count": 23,
   "metadata": {},
   "outputs": [
    {
     "name": "stdout",
     "output_type": "stream",
     "text": [
      "                   A         B         C\n",
      "2013-01-01  0.904632 -0.059137 -0.567054\n",
      "2013-01-02 -0.805827  0.800359  0.698279\n",
      "2013-01-03  0.725991  1.360938  0.498329\n",
      "2013-01-04 -0.922469  0.376714  0.538322\n",
      "2013-01-05  0.504744 -0.655517  0.498344\n",
      "2013-01-06  1.532796 -0.063732 -0.027163\n"
     ]
    },
    {
     "data": {
      "text/plain": [
       "A    float64\n",
       "B    float64\n",
       "C    float64\n",
       "dtype: object"
      ]
     },
     "execution_count": 23,
     "metadata": {},
     "output_type": "execute_result"
    }
   ],
   "source": [
    "print(pd.concat([df[['A']], df[['B', 'C']]], axis=1))\n",
    "pd.concat([df[['A']], df[['B', 'C']]], axis=1).dtypes"
   ]
  },
  {
   "cell_type": "code",
   "execution_count": 26,
   "metadata": {},
   "outputs": [
    {
     "data": {
      "text/plain": [
       "2013-01-01    0.904632\n",
       "2013-01-02   -0.805827\n",
       "2013-01-03    0.725991\n",
       "2013-01-04   -0.922469\n",
       "2013-01-05    0.504744\n",
       "2013-01-06    1.532796\n",
       "Freq: D, Name: A, dtype: float64"
      ]
     },
     "execution_count": 26,
     "metadata": {},
     "output_type": "execute_result"
    }
   ],
   "source": [
    "# Changing the type\n",
    "df['A'].astype(float)"
   ]
  },
  {
   "cell_type": "code",
   "execution_count": 28,
   "metadata": {},
   "outputs": [
    {
     "name": "stdout",
     "output_type": "stream",
     "text": [
      "A    1.939868\n",
      "B    1.759626\n",
      "C    1.639058\n",
      "D   -3.187690\n",
      "dtype: float64\n"
     ]
    },
    {
     "data": {
      "text/plain": [
       "B\n",
       "-0.655517    0.504744\n",
       "-0.063732    1.532796\n",
       "-0.059137    0.904632\n",
       " 0.376714   -0.922469\n",
       " 0.800359   -0.805827\n",
       " 1.360938    0.725991\n",
       "Name: A, dtype: float64"
      ]
     },
     "execution_count": 28,
     "metadata": {},
     "output_type": "execute_result"
    }
   ],
   "source": [
    "# Reductions and groupby operations.\n",
    "\n",
    "# Sum operation\n",
    "print(df.sum())\n",
    "\n",
    "# Grouping by operation\n",
    "df.groupby('B').A.sum()\n"
   ]
  },
  {
   "cell_type": "code",
   "execution_count": null,
   "metadata": {},
   "outputs": [],
   "source": []
  }
 ],
 "metadata": {
  "kernelspec": {
   "display_name": "Python 3",
   "language": "python",
   "name": "python3"
  },
  "language_info": {
   "codemirror_mode": {
    "name": "ipython",
    "version": 3
   },
   "file_extension": ".py",
   "mimetype": "text/x-python",
   "name": "python",
   "nbconvert_exporter": "python",
   "pygments_lexer": "ipython3",
   "version": "3.7.0"
  }
 },
 "nbformat": 4,
 "nbformat_minor": 2
}
